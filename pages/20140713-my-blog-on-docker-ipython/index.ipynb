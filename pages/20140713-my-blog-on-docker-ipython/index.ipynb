{
 "metadata": {
  "date": "2014-07-13",
  "name": "",
  "signature": "sha256:abbc2683a1eb602ad1fa4c2010994d542d72e900bc51e3a1e894cdb9e8480355",
  "title": "This is My Blog on Docker + IPython"
 },
 "nbformat": 3,
 "nbformat_minor": 0,
 "worksheets": [
  {
   "cells": [
    {
     "cell_type": "markdown",
     "metadata": {},
     "source": [
      "Late last year, I decided to refresh my blog with a more responsive design. In doing so, I looked for ways to simplify my [blogofile](http://www.blogofile.com/) setup. I looked at [Wintersmith](http://wintersmith.io/), [Pelican](http://blog.getpelican.com/), and [PyGreen](http://pygreen.neoname.eu/) but in the end decided to roll my own: five [Mako](http://www.makotemplates.org/) templates, 170 lines of Python, and my posts in [Markdown](http://daringfireball.net/projects/markdown/). I was pleased. Mostly. Two aspects of my generator nagged me, both of which I corrected this past weekend."
     ]
    },
    {
     "cell_type": "markdown",
     "metadata": {},
     "source": [
      "## Dockerize It\n",
      "\n",
      "First, my simple script had not-so-simple dependencies: the Mako, Markdown, and [Pygments](http://pygments.org/) Python packages; a local webserver to preview the rendered site; and rsync to upload the generated site to my webhost. Originally, I setup my local box with all of these, choosing to \"pay-later\" should I get a new computer, have to restore my box, want to post from another machine, etc. Now eight months on, I decided to pay-down this technical debt by creating a [Docker](https://docker.com) image that packages everything together using a simple Dockerfile:\n",
      "\n",
      "```bash\n",
      "FROM ubuntu:14.04\n",
      "\n",
      "MAINTAINER Peter Parente <parente@cs.unc.edu>\n",
      "\n",
      "RUN apt-get update\n",
      "RUN apt-get -yq install python-pip openssh-client rsync\n",
      "RUN pip install Mako==0.9.1 Markdown==2.4 Pygments==1.6\n",
      "\n",
      "ADD . /srv/blog\n",
      "WORKDIR /srv/blog\n",
      "```\n",
      "\n",
      "I drive the build and use of the image from a convenient [Makefile](https://github.com/parente/blog/blob/a164528fe14092d9d9147e2747733c77ac7ded94/Makefile) in my blog git repo.\n",
      "\n",
      "```bash\n",
      "# build the docker image once\n",
      "make build\n",
      "\n",
      "# render my blog posts acessbile via a contiainer-host mount\n",
      "# then run a Python SimpleHTTPServer to view the results locally\n",
      "make render\n",
      "\n",
      "# render and rsync the content to my webhost\n",
      "make publish\n",
      "```\n",
      "\n",
      "Now rendering, previewing, and uploading my blog requires Docker and, optionally, make. That's it."
     ]
    },
    {
     "cell_type": "markdown",
     "metadata": {},
     "source": [
      "## IPythonize It"
     ]
    },
    {
     "cell_type": "markdown",
     "metadata": {},
     "source": [
      "Second, I felt both liberated and limited by Markdown-only postings. I say liberated because writing in Markdown beat the heck out of writing pure HTML or using some WYSIWYG editor, especially for postings laden with code. I say limited because I missed the richness of explanation available in another tool I'd been using daily for over a year now, [IPython Notebook](http://ipython.org). To quiesce the latter feeling, I decided to [jump on the bandwagon](https://www.google.com/#q=blogging+with+ipython) and support both pure Markdown files and IPython Notebooks as blog posts. \n",
      "\n",
      "The addition of a couple dependencies in my [Dockerfile](https://github.com/parente/blog/blob/a164528fe14092d9d9147e2747733c77ac7ded94/Dockerfile), the ballooning of my generator code to a *massive* 250 lines of Python, and the creation of a new template and stylesheet enabled the blog post you see before you.\n",
      "\n",
      "And now, an amazing demonstration of IPython-powered posts ..."
     ]
    },
    {
     "cell_type": "markdown",
     "metadata": {},
     "source": [
      "### HOWTO: xkcd matplotlib plots"
     ]
    },
    {
     "cell_type": "markdown",
     "metadata": {},
     "source": [
      "First, install the Humor Sans font."
     ]
    },
    {
     "cell_type": "code",
     "collapsed": false,
     "input": [
      "!wget http://antiyawn.com/uploads/Humor-Sans-1.0.ttf -O ~/.fonts/Humor\\ Sans.ttf"
     ],
     "language": "python",
     "metadata": {},
     "outputs": [
      {
       "output_type": "stream",
       "stream": "stdout",
       "text": [
        "--2014-07-14 02:00:41--  http://antiyawn.com/uploads/Humor-Sans-1.0.ttf\r\n",
        "Resolving antiyawn.com (antiyawn.com)... 72.167.131.154\r\n",
        "Connecting to antiyawn.com (antiyawn.com)|72.167.131.154|:80... "
       ]
      },
      {
       "output_type": "stream",
       "stream": "stdout",
       "text": [
        "connected.\r\n",
        "HTTP request sent, awaiting response... "
       ]
      },
      {
       "output_type": "stream",
       "stream": "stdout",
       "text": [
        "200 OK\r\n",
        "Length: 25832 (25K) [text/plain]\r\n",
        "Saving to: \u2018/root/.fonts/Humor Sans.ttf\u2019\r\n",
        "\r\n",
        "\r",
        " 0% [                                       ] 0           --.-K/s              "
       ]
      },
      {
       "output_type": "stream",
       "stream": "stdout",
       "text": [
        "\r",
        "100%[======================================>] 25,832       136KB/s   in 0.2s   \r\n",
        "\r\n",
        "2014-07-14 02:00:41 (136 KB/s) - \u2018/root/.fonts/Humor Sans.ttf\u2019 saved [25832/25832]\r\n",
        "\r\n"
       ]
      }
     ],
     "prompt_number": 1
    },
    {
     "cell_type": "markdown",
     "metadata": {},
     "source": [
      "Next, flush the matplotlib font cache."
     ]
    },
    {
     "cell_type": "code",
     "collapsed": false,
     "input": [
      "!rm ~/.cache/matplotlib/fontList.cache"
     ],
     "language": "python",
     "metadata": {},
     "outputs": [],
     "prompt_number": 2
    },
    {
     "cell_type": "markdown",
     "metadata": {},
     "source": [
      "Then, enable inline plots in the style of [xkcd](http://xkcd.com/)."
     ]
    },
    {
     "cell_type": "code",
     "collapsed": false,
     "input": [
      "%matplotlib inline"
     ],
     "language": "python",
     "metadata": {},
     "outputs": [],
     "prompt_number": 3
    },
    {
     "cell_type": "code",
     "collapsed": false,
     "input": [
      "import matplotlib.pyplot as plt\n",
      "plt.ioff()"
     ],
     "language": "python",
     "metadata": {},
     "outputs": [],
     "prompt_number": 4
    },
    {
     "cell_type": "code",
     "collapsed": false,
     "input": [
      "plt.xkcd()"
     ],
     "language": "python",
     "metadata": {},
     "outputs": [
      {
       "metadata": {},
       "output_type": "pyout",
       "prompt_number": 5,
       "text": [
        "<matplotlib.rc_context at 0x7f39fe924d90>"
       ]
      }
     ],
     "prompt_number": 5
    },
    {
     "cell_type": "markdown",
     "metadata": {},
     "source": [
      "Finally, humbly copy and tweak an [existing matplotlib example](http://matplotlib.org/xkcd/examples/showcase/xkcd.html)."
     ]
    },
    {
     "cell_type": "code",
     "collapsed": false,
     "input": [
      "fig = plt.figure(figsize=(10,5))\n",
      "ax = fig.add_subplot(1, 1, 1)\n",
      "ax.bar([-0.125, 1.0-0.125], [0, 1], 0.25)\n",
      "ax.spines['right'].set_color('none')\n",
      "ax.spines['top'].set_color('none')\n",
      "ax.xaxis.set_ticks_position('bottom')\n",
      "ax.set_xticks([0, 1])\n",
      "ax.set_xlim([-0.5, 1.5])\n",
      "ax.set_ylim([0, 2])\n",
      "ax.set_xticklabels(['Before IPython support', 'After IPython support'])\n",
      "plt.yticks([0, 1, 2])\n",
      "\n",
      "plt.title(\"Useless plots on this blog\")"
     ],
     "language": "python",
     "metadata": {},
     "outputs": [
      {
       "metadata": {},
       "output_type": "pyout",
       "prompt_number": 6,
       "text": [
        "<matplotlib.text.Text at 0x7f39fe8340d0>"
       ]
      }
     ],
     "prompt_number": 6
    },
    {
     "cell_type": "markdown",
     "metadata": {},
     "source": [
      "**And voil&aacute;!**"
     ]
    },
    {
     "cell_type": "code",
     "collapsed": false,
     "input": [
      "plt.show()"
     ],
     "language": "python",
     "metadata": {},
     "outputs": [
      {
       "metadata": {},
       "output_type": "display_data",
       "png": "[encoded data removed]",
       "text": [
        "<matplotlib.figure.Figure at 0x7f39fe8c9150>"
       ]
      }
     ],
     "prompt_number": 7
    },
    {
     "cell_type": "markdown",
     "metadata": {},
     "source": [
      "The future is bright, I tell you."
     ]
    },
    {
     "cell_type": "markdown",
     "metadata": {},
     "source": [
      "## Genericize It"
     ]
    },
    {
     "cell_type": "markdown",
     "metadata": {},
     "source": [
      "So I've scratched my two blog itches, and, as expected from itching, have created more. The fact that my blog generator is now in a portable, reusable container yet still somewhat hardcoded to this site bugs me. With a bit more elbow grease, I believe I can make a Docker image that can seed a blog like mine for any purpose simply by setting a few environment variables.\n",
      "\n",
      "When or whether I get around to scratching this itch is an open question. Meanwhile, I solemnly promise never to write another veribified heading on this blog (but I refuse to make a similar promise for xkcd-style plots)."
     ]
    }
   ],
   "metadata": {}
  }
 ]
}